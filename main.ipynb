{
 "nbformat": 4,
 "nbformat_minor": 0,
 "metadata": {
  "accelerator": "GPU",
  "colab": {
   "name": "finalProject.ipynb",
   "provenance": [],
   "collapsed_sections": []
  },
  "kernelspec": {
   "display_name": "Python 3",
   "name": "python3"
  },
  "language_info": {
   "name": "python"
  }
 },
 "cells": [
  {
   "cell_type": "code",
   "metadata": {
    "id": "wqPL2igMjFTM"
   },
   "source": [
    "import tensorflow as tf\n",
    "from keras.layers import Dropout\n",
    "from keras.applications.vgg16 import VGG16\n",
    "from keras.models import Model\n",
    "from keras.layers import Dense, GlobalAveragePooling2D\n",
    "from keras.optimizers import adam_v2\n",
    "import matplotlib.pyplot as plt\n",
    "import ssl"
   ],
   "execution_count": 32,
   "outputs": []
  },
  {
   "cell_type": "code",
   "metadata": {
    "colab": {
     "base_uri": "https://localhost:8080/"
    },
    "id": "A5-hyb873qnA",
    "outputId": "11d956f1-6331-48c0-a7ad-a301721c64d3",
    "pycharm": {
     "is_executing": true
    }
   },
   "source": [
    "batch_size = 32\n",
    "img_height = 120\n",
    "img_width = 120\n",
    "\n",
    "train_ds = tf.keras.preprocessing.image_dataset_from_directory(\n",
    "  \"recaptcha_dataset/Large\",\n",
    "  validation_split=0.15,\n",
    "  subset=\"training\",\n",
    "  seed=1230,\n",
    "  color_mode=\"rgb\",\n",
    "  image_size=(img_height, img_width),\n",
    "  batch_size=batch_size,\n",
    "  label_mode='categorical')\n",
    "\n",
    "val_ds = tf.keras.preprocessing.image_dataset_from_directory(\n",
    "  \"recaptcha_dataset/Large\",\n",
    "  validation_split=0.15,\n",
    "  subset=\"validation\",\n",
    "  seed=1230,\n",
    "  color_mode=\"rgb\",\n",
    "  image_size=(img_height, img_width),\n",
    "  batch_size=batch_size,\n",
    "  label_mode='categorical')\n"
   ],
   "execution_count": null,
   "outputs": []
  },
  {
   "cell_type": "code",
   "metadata": {
    "id": "Lr1kiWoh8K3J"
   },
   "source": [
    "class_names = train_ds.class_names"
   ],
   "execution_count": 34,
   "outputs": []
  },
  {
   "cell_type": "code",
   "metadata": {
    "colab": {
     "base_uri": "https://localhost:8080/"
    },
    "id": "1qy2F-jF8R63",
    "outputId": "92f60b91-26cd-4be1-9da7-d25ccc86ee67",
    "pycharm": {
     "is_executing": true
    }
   },
   "source": [
    "for image_batch, labels_batch in train_ds:\n",
    "  print(image_batch.shape)\n",
    "  print(labels_batch.shape)\n",
    "  break"
   ],
   "execution_count": null,
   "outputs": []
  },
  {
   "cell_type": "code",
   "metadata": {
    "id": "2Z1bRHbI8dtc"
   },
   "source": [
    "AUTOTUNE = tf.data.AUTOTUNE\n",
    "\n",
    "train_ds = train_ds.cache().shuffle(1000).prefetch(buffer_size=AUTOTUNE)\n",
    "val_ds = val_ds.cache().prefetch(buffer_size=AUTOTUNE)"
   ],
   "execution_count": 36,
   "outputs": []
  },
  {
   "cell_type": "code",
   "metadata": {
    "colab": {
     "base_uri": "https://localhost:8080/"
    },
    "id": "otvy4ITPqPSm",
    "outputId": "2489c105-517b-4198-c343-a25101cf5b85"
   },
   "source": [
    "ssl._create_default_https_context = ssl._create_unverified_context\n",
    "base_model = VGG16(weights='imagenet', include_top=False)\n",
    "\n",
    "\n",
    "x = base_model.output\n",
    "x = GlobalAveragePooling2D()(x)\n",
    "\n",
    "\n",
    "x = Dense(1024, activation='relu')(x)\n",
    "\n",
    "x = Dropout(0.3)(x) \n",
    "\n",
    "predictions = Dense(12, activation='softmax')(x)\n",
    "\n",
    "model = Model(inputs=base_model.input, outputs=predictions)"
   ],
   "execution_count": 21,
   "outputs": []
  },
  {
   "cell_type": "code",
   "metadata": {
    "id": "BrTjg2H57c4b"
   },
   "source": [
    "for layer in base_model.layers:\n",
    "    layer.trainable = False"
   ],
   "execution_count": 37,
   "outputs": []
  },
  {
   "cell_type": "code",
   "metadata": {
    "id": "V-LSsSa57Ztd"
   },
   "source": [
    "model.compile(optimizer='adam', loss='categorical_crossentropy', metrics=['accuracy'])"
   ],
   "execution_count": 38,
   "outputs": []
  },
  {
   "cell_type": "code",
   "metadata": {
    "colab": {
     "background_save": true,
     "base_uri": "https://localhost:8080/"
    },
    "id": "UBWoaptZ7XG-",
    "outputId": "cadf2938-9ea4-43c8-ecdf-4cb8d2877118",
    "pycharm": {
     "is_executing": true
    }
   },
   "source": [
    "model.fit(train_ds,\n",
    "  validation_data=val_ds,\n",
    "  epochs=3)"
   ],
   "execution_count": null,
   "outputs": []
  },
  {
   "cell_type": "code",
   "metadata": {
    "id": "39EABtCT7Ur3"
   },
   "source": [
    "freeze_index = 15\n",
    "\n",
    "for layer in model.layers[:freeze_index]:\n",
    "   layer.trainable = False\n",
    "for layer in model.layers[freeze_index:]:\n",
    "   layer.trainable = True"
   ],
   "execution_count": 39,
   "outputs": []
  },
  {
   "cell_type": "code",
   "metadata": {
    "id": "WywJwpqi7Rkm"
   },
   "source": [
    "model.compile(optimizer=adam_v2.Adam(learning_rate=0.0001), loss='categorical_crossentropy', metrics=['accuracy'])"
   ],
   "execution_count": 40,
   "outputs": []
  },
  {
   "cell_type": "code",
   "metadata": {
    "id": "0VPLdVg77JP2",
    "pycharm": {
     "is_executing": true
    }
   },
   "source": [
    "history = model.fit(train_ds,\n",
    "  validation_data=val_ds,\n",
    "  epochs=5)"
   ],
   "execution_count": null,
   "outputs": []
  },
  {
   "cell_type": "code",
   "metadata": {
    "id": "SjlL88RtGfdF",
    "pycharm": {
     "name": "#%%\n",
     "is_executing": true
    }
   },
   "source": [
    "acc = history.history['accuracy']\n",
    "val_acc = history.history['val_accuracy']\n",
    "\n",
    "loss = history.history['loss']\n",
    "val_loss = history.history['val_loss']\n",
    "\n",
    "epochs_range = range(5)\n",
    "\n",
    "plt.figure(figsize=(8, 8))\n",
    "plt.subplot(1, 2, 1)\n",
    "plt.plot(epochs_range, acc, label='Training Accuracy')\n",
    "plt.plot(epochs_range, val_acc, label='Validation Accuracy')\n",
    "plt.legend(loc='lower right')\n",
    "plt.title('Training and Validation Accuracy')\n",
    "\n",
    "plt.subplot(1, 2, 2)\n",
    "plt.plot(epochs_range, loss, label='Training Loss')\n",
    "plt.plot(epochs_range, val_loss, label='Validation Loss')\n",
    "plt.legend(loc='upper right')\n",
    "plt.title('Training and Validation Loss')\n",
    "plt.show()"
   ],
   "execution_count": null,
   "outputs": []
  }
 ]
}